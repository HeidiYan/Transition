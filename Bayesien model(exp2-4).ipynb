{
 "cells": [
  {
   "cell_type": "code",
   "execution_count": 1,
   "metadata": {},
   "outputs": [
    {
     "name": "stderr",
     "output_type": "stream",
     "text": [
      "WARNING (theano.configdefaults): g++ not available, if using conda: `conda install m2w64-toolchain`\n",
      "C:\\Anaconda3\\lib\\site-packages\\theano\\configdefaults.py:560: UserWarning: DeprecationWarning: there is no c++ compiler.This is deprecated and with Theano 0.11 a c++ compiler will be mandatory\n",
      "  warnings.warn(\"DeprecationWarning: there is no c++ compiler.\"\n",
      "WARNING (theano.configdefaults): g++ not detected ! Theano will be unable to execute optimized C-implementations (for both CPU and GPU) and will default to Python implementations. Performance will be severely degraded. To remove this warning, set Theano flags cxx to an empty string.\n",
      "WARNING (theano.tensor.blas): Using NumPy C-API based implementation for BLAS functions.\n"
     ]
    }
   ],
   "source": [
    "\n",
    "import pickle\n",
    "import gzip\n",
    "import time\n",
    "\n",
    "import numpy as np\n",
    "import scipy as sp\n",
    "import scipy.io as sio\n",
    "\n",
    "import pymc3 as pm\n",
    "import theano\n",
    "import theano.tensor as tt\n",
    "import matplotlib.pyplot as plt\n",
    "import pandas as pd\n",
    "import random"
   ]
  },
  {
   "cell_type": "code",
   "execution_count": 2,
   "metadata": {},
   "outputs": [],
   "source": [
    "\n",
    "def get_data(sub_id):\n",
    "    subdata=mydata[mydata.Subject==sub_id]\n",
    "    trialindex=list(subdata['trialindex'])\n",
    "    rt=list(subdata['RT'])\n",
    "    conds=list(subdata['Type'])\n",
    "    print('The trial length of sub%02d is %d' %(sub_id,len(trialindex)))\n",
    "    return rt,trialindex,conds"
   ]
  },
  {
   "cell_type": "code",
   "execution_count": 3,
   "metadata": {},
   "outputs": [],
   "source": [
    "\n",
    "def do_sampling_random_switchpoint(sub_id,rt, trialindex, conds,fakesp):\n",
    "    # use empirical mean (ignoring condition or time point) as center of prior\n",
    "    mu_obs = np.mean(rt)\n",
    "    sd_obs = np.std(rt)\n",
    "    \n",
    "    model = pm.Model()\n",
    "    with model:#define the model\n",
    "        #mu_new is the mean RT of random stimulus\n",
    "        mu_new = pm.Normal('mu_new', mu=mu_obs, sd=sd_obs*2, testval=mu_obs)\n",
    "        mu_before_old_benefit=pm.Normal('mu_before_old_benefit', mu=mu_obs, sd=sd_obs*2, testval=mu_obs)\n",
    "        mu_before = pm.math.switch(conds, mu_new-mu_before_old_benefit, mu_new)\n",
    "        mu_after_old_benefit=pm.Normal('mu_after_old_benefit', mu=mu_obs, sd=sd_obs*2, testval=mu_obs)\n",
    "        #function from theano.tensor，switch(cond, ift, iff)，if cond then ift else iff\n",
    "        mu_after = pm.math.switch(conds, mu_new-mu_after_old_benefit, mu_new)\n",
    "        #pseudo switchpoint\n",
    "        a=np.arange(fakesp,fakesp+1)\n",
    "        switchpoint=a.repeat(len(trialindex)) \n",
    "        print('The fake switchpoint of sub%02d is %d' %(sub_id,fakesp))\n",
    "        \n",
    "        #if trial in or after the switchpoint session，mu=mu_after，else mu=mu_before\n",
    "        mu = pm.math.switch(trialindex > (switchpoint-1)*60, mu_after, mu_before)\n",
    "        \n",
    "        sigma = pm.HalfNormal('sigma', sd=sd_obs*2, testval=sd_obs*2)\n",
    "        #model construction\n",
    "        rt_modelled = pm.Normal('rt_modelled', mu=mu, sd=sigma, observed=rt)\n",
    "        \n",
    "        step = pm.Metropolis()\n",
    "        \n",
    "        trace = pm.sample(40000, step=step, start=model.test_point, chains=4,cores=4)#MCMC\n",
    "    \n",
    "    return trace[20000::5], model#delete the first 20000 samples(burn-in)，take every fifth of the remaining samples(thining)"
   ]
  },
  {
   "cell_type": "code",
   "execution_count": 4,
   "metadata": {},
   "outputs": [],
   "source": [
    "def do_sampling_given_switchpoint(sub_id,rt, trialindex, conds,sp):\n",
    "    # use empirical mean (ignoring condition or time point) as center of prior\n",
    "    mu_obs = np.mean(rt)\n",
    "    sd_obs = np.std(rt)\n",
    "    \n",
    "    model = pm.Model()\n",
    "    with model:\n",
    "        \n",
    "        mu_new = pm.Normal('mu_new', mu=mu_obs, sd=sd_obs*2, testval=mu_obs)\n",
    "        mu_before_old_benefit=pm.Normal('mu_before_old_benefit', mu=mu_obs, sd=sd_obs*2, testval=mu_obs)\n",
    "        mu_before = pm.math.switch(conds, mu_new-mu_before_old_benefit, mu_new)\n",
    "       \n",
    "        mu_after_old_benefit=pm.Normal('mu_after_old_benefit', mu=mu_obs, sd=sd_obs*2, testval=mu_obs)\n",
    "        mu_after = pm.math.switch(conds, mu_new-mu_after_old_benefit, mu_new)\n",
    "        #switchpoint by verbal measure\n",
    "        a=np.arange(sp,sp+1)\n",
    "        switchpoint=a.repeat(len(trialindex)) \n",
    "        print('The true switchpoint of sub%02d is %d' %(sub_id,sp))\n",
    "    \n",
    "        mu = pm.math.switch(trialindex > (switchpoint-1)*60, mu_after, mu_before)\n",
    "        \n",
    "        sigma = pm.HalfNormal('sigma', sd=sd_obs*2, testval=sd_obs*2)\n",
    "     \n",
    "        rt_modelled = pm.Normal('rt_modelled', mu=mu, sd=sigma, observed=rt)\n",
    "\n",
    "        \n",
    "        step = pm.Metropolis()\n",
    "        \n",
    "        trace = pm.sample(40000, step=step, start=model.test_point, chains=4,cores=4)#MCMC采样\n",
    "    \n",
    "    return trace[20000::5], model"
   ]
  },
  {
   "cell_type": "code",
   "execution_count": 5,
   "metadata": {},
   "outputs": [],
   "source": [
    "def do_sampling_noswitchpoint(sub_id,rt, trialindex, conds):\n",
    "    # use empirical mean (ignoring condition or time point) as center of prior\n",
    "    mu_obs = np.mean(rt)\n",
    "    sd_obs = np.std(rt)\n",
    "    \n",
    "    model = pm.Model()\n",
    "    with model:\n",
    "        mu_new =  pm.Normal('mu_new', mu=mu_obs, sd=sd_obs*2, testval=mu_obs)\n",
    "        mu_old_benefit =  pm.Normal('mu_old_benefit', mu=mu_obs, sd=sd_obs*2, testval=mu_obs)\n",
    "        sigma = pm.HalfNormal('sigma', sd=sd_obs*2, testval=sd_obs*2)\n",
    "        \n",
    "        mu = pm.math.switch(conds, mu_new-mu_old_benefit, mu_new)\n",
    "        \n",
    "        rt_modelled = pm.Normal('rt_modelled', mu=mu, sd=sigma, observed=rt)\n",
    "        \n",
    "        step = pm.Metropolis()\n",
    "        \n",
    "        trace = pm.sample(40000, step=step, start=model.test_point, chains=4,\n",
    "            cores=4)\n",
    "    return trace[20000::5], model"
   ]
  },
  {
   "cell_type": "code",
   "execution_count": 6,
   "metadata": {},
   "outputs": [],
   "source": [
    "def model_construct(sub_id,model_type,sp):\n",
    "        filepath='E:/transition-upload/Python/Bayesian model/experiment2'\n",
    "        rt,trialindex,conds=get_data(sub_id)\n",
    "        #log transformation\n",
    "        logrt=np.log10(rt)\n",
    "        plt.scatter(trialindex,logrt)\n",
    "        plt.savefig(filepath+'/scatter_sub{:02d}.png'.format(sub_id))\n",
    "        print(\"Now is fitting %s model for sub%02d......\"%(model_type,sub_id))\n",
    "        if model_type=='nosp':\n",
    "            trace,model=do_sampling_noswitchpoint(sub_id,logrt,trialindex,conds)\n",
    "        elif model_type=='randomsp':\n",
    "            trace,model=do_sampling_random_switchpoint(sub_id,logrt,trialindex,conds,sp)\n",
    "        elif model_type=='givensp':\n",
    "            trace,model=do_sampling_given_switchpoint(sub_id,logrt,trialindex,conds,sp)\n",
    "        with model:\n",
    "            pm.traceplot(trace)\n",
    "            plt.savefig(filepath+'/{}_trace_sub{:02d}.png'.format(model_type, sub_id))\n",
    "            plt.close('all')\n",
    "            \n",
    "            pm.plot_posterior(trace)\n",
    "            plt.savefig(filepath+'/{}_posterior_sub{:02d}.png'.format(model_type, sub_id))\n",
    "            plt.close('all')\n",
    "            \n",
    "            #export data\n",
    "            with gzip.open(filepath + '/tracedata/{}_trace_sub{:02d}.pkl.gz'.format(model_type, sub_id), 'wb') as f:\n",
    "                pickle.dump((trace, model), f)\n",
    "            waic=pm.waic(trace,scale='deviance')\n",
    "        print(\"The WAIC of %s model is %f\"%(model_type,waic.waic))\n",
    "        print(\"--------------------------------------------------------\")\n",
    "        return trace,model\n"
   ]
  },
  {
   "cell_type": "code",
   "execution_count": 7,
   "metadata": {},
   "outputs": [],
   "source": [
    "def run(sub_id,sp,fakesp):\n",
    "    filepath='E:/transition-upload/Python/Bayesian model/experiment2'\n",
    "    tracenp,modelnp=model_construct(sub_id,'nosp',sp)\n",
    "    tracegp,modelgp=model_construct(sub_id,'givensp',sp)\n",
    "    tracerp,modelrp=model_construct(sub_id,'randomsp',fakesp)\n",
    "    with pd.ExcelWriter(filepath+'/summary_sub'+str(sub_id)+'.xlsx') as writer: \n",
    "        with modelnp:\n",
    "            pm.summary(tracenp).to_excel(writer, sheet_name='noswitchpoint')\n",
    "           \n",
    "        with modelgp:\n",
    "            pm.summary(tracegp).to_excel(writer, sheet_name='givenswtichpoint')\n",
    "\n",
    "        with modelrp:\n",
    "            pm.summary(tracerp).to_excel(writer, sheet_name='randomswitchpoint')\n",
    "    #waic comparision\n",
    "    df_comp_WAIC = pm.compare({'randomswitchpoint': tracerp,'noswitchpoint': tracenp,'givenswitchpoint':tracegp},ic='waic',scale='deviance')\n",
    "    df_comp_WAIC.to_csv(filepath+'/cmp_waic_sub'+str(sub_id)+'.csv')\n",
    "    "
   ]
  },
  {
   "cell_type": "code",
   "execution_count": 9,
   "metadata": {},
   "outputs": [
    {
     "name": "stdout",
     "output_type": "stream",
     "text": [
      "{2: 6, 5: 7, 7: 4, 8: 4, 9: 6, 11: 4, 14: 6, 15: 5, 18: 4, 20: 4, 21: 3, 25: 5, 27: 4, 29: 7, 30: 5, 32: 4, 33: 6, 34: 4}\n",
      "{2: 3, 5: 6, 7: 3, 8: 6, 9: 5, 11: 6, 14: 5, 15: 7, 18: 5, 20: 3, 21: 5, 25: 3, 27: 5, 29: 3, 30: 3, 32: 6, 33: 4, 34: 7}\n"
     ]
    },
    {
     "name": "stderr",
     "output_type": "stream",
     "text": [
      "C:\\Anaconda3\\lib\\site-packages\\ipykernel_launcher.py:4: UserWarning: Pandas doesn't allow columns to be created via a new attribute name - see https://pandas.pydata.org/pandas-docs/stable/indexing.html#attribute-access\n",
      "  after removing the cwd from sys.path.\n"
     ]
    }
   ],
   "source": [
    "#read real switchpoint \n",
    "tpdata=pd.read_csv('E:/transition-upload/Python/Bayesian model/experiment2/exp2_tp.csv')\n",
    "tpdata.subject=(tpdata['subject']).astype(int)\n",
    "tpdata.transition_Phase=(tpdata['true_transition']).astype(int)\n",
    "tpdict =tpdata.set_index('subject')['true_transition'].to_dict()\n",
    "print(tpdict)\n",
    "#read pseudo switchpoint\n",
    "ftpdict =tpdata.set_index('subject')['fake_transition'].to_dict()\n",
    "print(ftpdict)"
   ]
  },
  {
   "cell_type": "code",
   "execution_count": 10,
   "metadata": {},
   "outputs": [
    {
     "name": "stdout",
     "output_type": "stream",
     "text": [
      "       Subject  trialindex  ACC     RT  Type\n",
      "0            1         1.0    1  817.0  True\n",
      "1            1         2.0    1  468.0  True\n",
      "2            1         3.0    1  448.0  True\n",
      "3            1         4.0    1  481.0  True\n",
      "4            1         5.0    1  528.0  True\n",
      "...        ...         ...  ...    ...   ...\n",
      "15655       34       536.0    1  400.0  True\n",
      "15656       34       537.0    1  336.0  True\n",
      "15657       34       538.0    1  388.0  True\n",
      "15658       34       539.0    1  425.0  True\n",
      "15659       34       540.0    1  297.0  True\n",
      "\n",
      "[15182 rows x 5 columns]\n"
     ]
    }
   ],
   "source": [
    "#read RT data\n",
    "mydata=pd.read_csv('E:/transition-upload/Python/Bayesian model/experiment2/exp2_expdata.csv')\n",
    "#delete NULL data（trials that ACC=0）\n",
    "mydata.dropna(axis=0,how='any',inplace=True)\n",
    "print(mydata)\n"
   ]
  },
  {
   "cell_type": "code",
   "execution_count": 13,
   "metadata": {},
   "outputs": [
    {
     "name": "stdout",
     "output_type": "stream",
     "text": [
      "The subject is not in the list\n"
     ]
    }
   ],
   "source": [
    "#run \n",
    "subid=1\n",
    "if subid in tpdict.keys():\n",
    "    run(subid,sp=tpdict[subid],fakesp=ftpdict[subid])\n",
    "else:\n",
    "    print(\"The subject is not in the list\")"
   ]
  },
  {
   "cell_type": "code",
   "execution_count": null,
   "metadata": {},
   "outputs": [],
   "source": []
  }
 ],
 "metadata": {
  "kernelspec": {
   "display_name": "Python 3",
   "language": "python",
   "name": "python3"
  },
  "language_info": {
   "codemirror_mode": {
    "name": "ipython",
    "version": 3
   },
   "file_extension": ".py",
   "mimetype": "text/x-python",
   "name": "python",
   "nbconvert_exporter": "python",
   "pygments_lexer": "ipython3",
   "version": "3.7.6"
  }
 },
 "nbformat": 4,
 "nbformat_minor": 4
}
